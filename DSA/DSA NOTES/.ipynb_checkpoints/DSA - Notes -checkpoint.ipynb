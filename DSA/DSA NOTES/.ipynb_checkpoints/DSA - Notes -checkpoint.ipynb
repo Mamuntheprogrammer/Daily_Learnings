{
 "cells": [
  {
   "cell_type": "markdown",
   "id": "0b467a01",
   "metadata": {},
   "source": [
    "\n",
    "### Learning Order for Data Structures and Algorithms\n",
    "\n",
    "1. **Time Complexity Analysis**: Understand the basics of Big O notation and how to analyze the efficiency of algorithms.\n",
    "   \n",
    "     \n",
    "2. **Data Structures**:\n",
    "    - **Arrays**\n",
    "    - **Strings**\n",
    "    - **LinkedLists**\n",
    "    - **Stacks**\n",
    "    - **Queues**\n",
    "    - **Trees**\n",
    "    - **Graphs**\n",
    "    - **Tries**\n",
    "    - **Heaps**\n",
    "    - **Hash Tables**\n",
    "     \n",
    "     \n",
    "   \n",
    "3. **Algorithms**:\n",
    "    - **Searching**: Learn linear search and binary search.\n",
    "    - **Sorting**: Study different sorting algorithms like bubble sort, selection sort, insertion sort, quicksort, mergesort, and heapsort.\n",
    "    - **Recursion**: Understand the concept of recursion and practice problems.\n",
    "    - **Hashing**: Learn about hash functions and hash tables.\n",
    "    - **Backtracking**: Explore the backtracking algorithm for solving constraint satisfaction problems.\n",
    "    - **Greedy**: Understand the greedy approach and its applications.\n",
    "    - **Dynamic Programming**: Learn dynamic programming techniques and practice problems.\n",
    "    - **Divide and Conquer**: Study the divide and conquer strategy with examples.\n",
    "    - **Number Theory**: Explore number theory concepts used in algorithms.\n",
    "    - **Graph Theory**: Learn graph traversal algorithms like BFS and DFS.\n",
    "    - **Two Pointers**: Understand the two-pointer technique.\n",
    "    - **Sliding Window**: Learn the sliding window technique.\n",
    "    - **Bit Manipulation**: Study bitwise operations and their applications.\n",
    "   \n",
    "  \n",
    "  \n",
    "4. **Problem-Solving Techniques**:\n",
    "    - **Sliding Window**\n",
    "    - **Islands (Matrix Traversal)**\n",
    "    - **Two Pointers**\n",
    "    - **Fast & Slow Pointers**\n",
    "    - **Merge Intervals**\n",
    "    - **Cyclic Sort**\n",
    "    - **In-place Reversal of a LinkedList**\n",
    "    - **Tree Breadth-First Search**\n",
    "    - **Tree Depth First Search**\n",
    "    - **Two Heaps**\n",
    "    - **Subsets**\n",
    "    - **Modified Binary Search**\n",
    "    - **Bitwise XOR**\n",
    "    - **Top ‘K’ Elements**\n",
    "    - **K-way Merge**\n",
    "    - **Topological Sort**\n",
    "    - **0/1 Knapsack**\n",
    "    - **Fibonacci Numbers**\n",
    "    - **Palindromic Subsequence**\n",
    "    - **Longest Common Substring**\n",
    "\n"
   ]
  },
  {
   "cell_type": "code",
   "execution_count": null,
   "id": "8edce162",
   "metadata": {},
   "outputs": [],
   "source": []
  }
 ],
 "metadata": {
  "kernelspec": {
   "display_name": "Python 3 (ipykernel)",
   "language": "python",
   "name": "python3"
  },
  "language_info": {
   "codemirror_mode": {
    "name": "ipython",
    "version": 3
   },
   "file_extension": ".py",
   "mimetype": "text/x-python",
   "name": "python",
   "nbconvert_exporter": "python",
   "pygments_lexer": "ipython3",
   "version": "3.11.0"
  }
 },
 "nbformat": 4,
 "nbformat_minor": 5
}
